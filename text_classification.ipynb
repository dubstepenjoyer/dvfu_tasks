{
 "cells": [
  {
   "cell_type": "markdown",
   "id": "64acc7fb-59de-4ebc-b82f-afb53cc852d2",
   "metadata": {
    "jp-MarkdownHeadingCollapsed": true
   },
   "source": [
    "# Imports"
   ]
  },
  {
   "cell_type": "code",
   "execution_count": 1,
   "id": "3379e5ef-2708-48c0-a8ed-95eda57a8aea",
   "metadata": {},
   "outputs": [],
   "source": [
    "import pickle\n",
    "import numpy as np\n",
    "import pandas as pd\n",
    "import transformers\n",
    "import tensorflow as tf\n",
    "import tqdm.notebook as tqdm\n",
    "import sklearn.model_selection\n",
    "from sklearn.metrics import ConfusionMatrixDisplay, multilabel_confusion_matrix, precision_score"
   ]
  },
  {
   "cell_type": "code",
   "execution_count": 2,
   "id": "b584a624",
   "metadata": {},
   "outputs": [
    {
     "name": "stdout",
     "output_type": "stream",
     "text": [
      "[PhysicalDevice(name='/physical_device:GPU:0', device_type='GPU')]\n",
      "GPU enable\n"
     ]
    }
   ],
   "source": [
    "gpus = tf.config.list_physical_devices('GPU')\n",
    "print(gpus)\n",
    "if gpus:\n",
    "    try:\n",
    "        tf.config.experimental.set_memory_growth(gpus[0], True)\n",
    "        print('GPU enable')\n",
    "    except Exception as e:\n",
    "        print(e)"
   ]
  },
  {
   "cell_type": "markdown",
   "id": "3588f5af-a33c-4638-90d8-5cb912535790",
   "metadata": {
    "jp-MarkdownHeadingCollapsed": true
   },
   "source": [
    "# Data"
   ]
  },
  {
   "cell_type": "markdown",
   "id": "c468a19b-1395-4afc-b0c5-a799160ea671",
   "metadata": {},
   "source": [
    "Load and prepare your dataset. Dataset should have at least 10k samples in it. Each dataset cannot be used by more than two students."
   ]
  },
  {
   "cell_type": "code",
   "execution_count": 3,
   "id": "27724773-5172-4a0f-87ab-6878341a7ab9",
   "metadata": {},
   "outputs": [],
   "source": [
    "data = pd.read_parquet('text_emotion_data.parquet').drop(\n",
    "    [\n",
    "        'ru_text',\n",
    "        'id',\n",
    "        'author',\n",
    "        'subreddit',\n",
    "        'link_id',\n",
    "        'parent_id',\n",
    "        'created_utc',\n",
    "        'rater_id',\n",
    "        'example_very_unclear',\n",
    "        ],\n",
    "        axis=1)"
   ]
  },
  {
   "cell_type": "code",
   "execution_count": 4,
   "id": "8c9ef21d",
   "metadata": {},
   "outputs": [
    {
     "data": {
      "text/html": [
       "<div>\n",
       "<style scoped>\n",
       "    .dataframe tbody tr th:only-of-type {\n",
       "        vertical-align: middle;\n",
       "    }\n",
       "\n",
       "    .dataframe tbody tr th {\n",
       "        vertical-align: top;\n",
       "    }\n",
       "\n",
       "    .dataframe thead th {\n",
       "        text-align: right;\n",
       "    }\n",
       "</style>\n",
       "<table border=\"1\" class=\"dataframe\">\n",
       "  <thead>\n",
       "    <tr style=\"text-align: right;\">\n",
       "      <th></th>\n",
       "      <th>text</th>\n",
       "      <th>admiration</th>\n",
       "      <th>amusement</th>\n",
       "      <th>anger</th>\n",
       "      <th>annoyance</th>\n",
       "      <th>approval</th>\n",
       "      <th>caring</th>\n",
       "      <th>confusion</th>\n",
       "      <th>curiosity</th>\n",
       "      <th>desire</th>\n",
       "      <th>...</th>\n",
       "      <th>love</th>\n",
       "      <th>nervousness</th>\n",
       "      <th>optimism</th>\n",
       "      <th>pride</th>\n",
       "      <th>realization</th>\n",
       "      <th>relief</th>\n",
       "      <th>remorse</th>\n",
       "      <th>sadness</th>\n",
       "      <th>surprise</th>\n",
       "      <th>neutral</th>\n",
       "    </tr>\n",
       "  </thead>\n",
       "  <tbody>\n",
       "    <tr>\n",
       "      <th>0</th>\n",
       "      <td>That game hurt.</td>\n",
       "      <td>0</td>\n",
       "      <td>0</td>\n",
       "      <td>0</td>\n",
       "      <td>0</td>\n",
       "      <td>0</td>\n",
       "      <td>0</td>\n",
       "      <td>0</td>\n",
       "      <td>0</td>\n",
       "      <td>0</td>\n",
       "      <td>...</td>\n",
       "      <td>0</td>\n",
       "      <td>0</td>\n",
       "      <td>0</td>\n",
       "      <td>0</td>\n",
       "      <td>0</td>\n",
       "      <td>0</td>\n",
       "      <td>0</td>\n",
       "      <td>1</td>\n",
       "      <td>0</td>\n",
       "      <td>0</td>\n",
       "    </tr>\n",
       "    <tr>\n",
       "      <th>1</th>\n",
       "      <td>&gt;sexuality shouldn’t be a grouping category I...</td>\n",
       "      <td>0</td>\n",
       "      <td>0</td>\n",
       "      <td>0</td>\n",
       "      <td>0</td>\n",
       "      <td>0</td>\n",
       "      <td>0</td>\n",
       "      <td>0</td>\n",
       "      <td>0</td>\n",
       "      <td>0</td>\n",
       "      <td>...</td>\n",
       "      <td>0</td>\n",
       "      <td>0</td>\n",
       "      <td>0</td>\n",
       "      <td>0</td>\n",
       "      <td>0</td>\n",
       "      <td>0</td>\n",
       "      <td>0</td>\n",
       "      <td>0</td>\n",
       "      <td>0</td>\n",
       "      <td>0</td>\n",
       "    </tr>\n",
       "    <tr>\n",
       "      <th>2</th>\n",
       "      <td>You do right, if you don't care then fuck 'em!</td>\n",
       "      <td>0</td>\n",
       "      <td>0</td>\n",
       "      <td>0</td>\n",
       "      <td>0</td>\n",
       "      <td>0</td>\n",
       "      <td>0</td>\n",
       "      <td>0</td>\n",
       "      <td>0</td>\n",
       "      <td>0</td>\n",
       "      <td>...</td>\n",
       "      <td>0</td>\n",
       "      <td>0</td>\n",
       "      <td>0</td>\n",
       "      <td>0</td>\n",
       "      <td>0</td>\n",
       "      <td>0</td>\n",
       "      <td>0</td>\n",
       "      <td>0</td>\n",
       "      <td>0</td>\n",
       "      <td>1</td>\n",
       "    </tr>\n",
       "    <tr>\n",
       "      <th>3</th>\n",
       "      <td>Man I love reddit.</td>\n",
       "      <td>0</td>\n",
       "      <td>0</td>\n",
       "      <td>0</td>\n",
       "      <td>0</td>\n",
       "      <td>0</td>\n",
       "      <td>0</td>\n",
       "      <td>0</td>\n",
       "      <td>0</td>\n",
       "      <td>0</td>\n",
       "      <td>...</td>\n",
       "      <td>1</td>\n",
       "      <td>0</td>\n",
       "      <td>0</td>\n",
       "      <td>0</td>\n",
       "      <td>0</td>\n",
       "      <td>0</td>\n",
       "      <td>0</td>\n",
       "      <td>0</td>\n",
       "      <td>0</td>\n",
       "      <td>0</td>\n",
       "    </tr>\n",
       "    <tr>\n",
       "      <th>4</th>\n",
       "      <td>[NAME] was nowhere near them, he was by the Fa...</td>\n",
       "      <td>0</td>\n",
       "      <td>0</td>\n",
       "      <td>0</td>\n",
       "      <td>0</td>\n",
       "      <td>0</td>\n",
       "      <td>0</td>\n",
       "      <td>0</td>\n",
       "      <td>0</td>\n",
       "      <td>0</td>\n",
       "      <td>...</td>\n",
       "      <td>0</td>\n",
       "      <td>0</td>\n",
       "      <td>0</td>\n",
       "      <td>0</td>\n",
       "      <td>0</td>\n",
       "      <td>0</td>\n",
       "      <td>0</td>\n",
       "      <td>0</td>\n",
       "      <td>0</td>\n",
       "      <td>1</td>\n",
       "    </tr>\n",
       "    <tr>\n",
       "      <th>...</th>\n",
       "      <td>...</td>\n",
       "      <td>...</td>\n",
       "      <td>...</td>\n",
       "      <td>...</td>\n",
       "      <td>...</td>\n",
       "      <td>...</td>\n",
       "      <td>...</td>\n",
       "      <td>...</td>\n",
       "      <td>...</td>\n",
       "      <td>...</td>\n",
       "      <td>...</td>\n",
       "      <td>...</td>\n",
       "      <td>...</td>\n",
       "      <td>...</td>\n",
       "      <td>...</td>\n",
       "      <td>...</td>\n",
       "      <td>...</td>\n",
       "      <td>...</td>\n",
       "      <td>...</td>\n",
       "      <td>...</td>\n",
       "      <td>...</td>\n",
       "    </tr>\n",
       "    <tr>\n",
       "      <th>211220</th>\n",
       "      <td>Everyone likes [NAME].</td>\n",
       "      <td>0</td>\n",
       "      <td>0</td>\n",
       "      <td>0</td>\n",
       "      <td>0</td>\n",
       "      <td>0</td>\n",
       "      <td>0</td>\n",
       "      <td>0</td>\n",
       "      <td>0</td>\n",
       "      <td>0</td>\n",
       "      <td>...</td>\n",
       "      <td>1</td>\n",
       "      <td>0</td>\n",
       "      <td>0</td>\n",
       "      <td>0</td>\n",
       "      <td>0</td>\n",
       "      <td>0</td>\n",
       "      <td>0</td>\n",
       "      <td>0</td>\n",
       "      <td>0</td>\n",
       "      <td>0</td>\n",
       "    </tr>\n",
       "    <tr>\n",
       "      <th>211221</th>\n",
       "      <td>Well when you’ve imported about a gazillion of...</td>\n",
       "      <td>0</td>\n",
       "      <td>0</td>\n",
       "      <td>0</td>\n",
       "      <td>0</td>\n",
       "      <td>0</td>\n",
       "      <td>1</td>\n",
       "      <td>0</td>\n",
       "      <td>0</td>\n",
       "      <td>0</td>\n",
       "      <td>...</td>\n",
       "      <td>0</td>\n",
       "      <td>0</td>\n",
       "      <td>0</td>\n",
       "      <td>0</td>\n",
       "      <td>0</td>\n",
       "      <td>0</td>\n",
       "      <td>0</td>\n",
       "      <td>0</td>\n",
       "      <td>0</td>\n",
       "      <td>0</td>\n",
       "    </tr>\n",
       "    <tr>\n",
       "      <th>211222</th>\n",
       "      <td>That looks amazing</td>\n",
       "      <td>1</td>\n",
       "      <td>0</td>\n",
       "      <td>0</td>\n",
       "      <td>0</td>\n",
       "      <td>0</td>\n",
       "      <td>0</td>\n",
       "      <td>0</td>\n",
       "      <td>0</td>\n",
       "      <td>0</td>\n",
       "      <td>...</td>\n",
       "      <td>0</td>\n",
       "      <td>0</td>\n",
       "      <td>0</td>\n",
       "      <td>0</td>\n",
       "      <td>0</td>\n",
       "      <td>0</td>\n",
       "      <td>0</td>\n",
       "      <td>0</td>\n",
       "      <td>0</td>\n",
       "      <td>0</td>\n",
       "    </tr>\n",
       "    <tr>\n",
       "      <th>211223</th>\n",
       "      <td>The FDA has plenty to criticize. But like here...</td>\n",
       "      <td>0</td>\n",
       "      <td>0</td>\n",
       "      <td>1</td>\n",
       "      <td>0</td>\n",
       "      <td>0</td>\n",
       "      <td>0</td>\n",
       "      <td>0</td>\n",
       "      <td>0</td>\n",
       "      <td>0</td>\n",
       "      <td>...</td>\n",
       "      <td>0</td>\n",
       "      <td>0</td>\n",
       "      <td>0</td>\n",
       "      <td>0</td>\n",
       "      <td>0</td>\n",
       "      <td>0</td>\n",
       "      <td>0</td>\n",
       "      <td>0</td>\n",
       "      <td>0</td>\n",
       "      <td>0</td>\n",
       "    </tr>\n",
       "    <tr>\n",
       "      <th>211224</th>\n",
       "      <td>Desktop link: ^^/r/HelperBot_ ^^Downvote ^^to ...</td>\n",
       "      <td>0</td>\n",
       "      <td>0</td>\n",
       "      <td>0</td>\n",
       "      <td>0</td>\n",
       "      <td>0</td>\n",
       "      <td>0</td>\n",
       "      <td>0</td>\n",
       "      <td>0</td>\n",
       "      <td>0</td>\n",
       "      <td>...</td>\n",
       "      <td>0</td>\n",
       "      <td>0</td>\n",
       "      <td>0</td>\n",
       "      <td>0</td>\n",
       "      <td>0</td>\n",
       "      <td>0</td>\n",
       "      <td>0</td>\n",
       "      <td>0</td>\n",
       "      <td>0</td>\n",
       "      <td>0</td>\n",
       "    </tr>\n",
       "  </tbody>\n",
       "</table>\n",
       "<p>211225 rows × 29 columns</p>\n",
       "</div>"
      ],
      "text/plain": [
       "                                                     text  admiration   \n",
       "0                                         That game hurt.           0  \\\n",
       "1        >sexuality shouldn’t be a grouping category I...           0   \n",
       "2          You do right, if you don't care then fuck 'em!           0   \n",
       "3                                      Man I love reddit.           0   \n",
       "4       [NAME] was nowhere near them, he was by the Fa...           0   \n",
       "...                                                   ...         ...   \n",
       "211220                             Everyone likes [NAME].           0   \n",
       "211221  Well when you’ve imported about a gazillion of...           0   \n",
       "211222                                 That looks amazing           1   \n",
       "211223  The FDA has plenty to criticize. But like here...           0   \n",
       "211224  Desktop link: ^^/r/HelperBot_ ^^Downvote ^^to ...           0   \n",
       "\n",
       "        amusement  anger  annoyance  approval  caring  confusion  curiosity   \n",
       "0               0      0          0         0       0          0          0  \\\n",
       "1               0      0          0         0       0          0          0   \n",
       "2               0      0          0         0       0          0          0   \n",
       "3               0      0          0         0       0          0          0   \n",
       "4               0      0          0         0       0          0          0   \n",
       "...           ...    ...        ...       ...     ...        ...        ...   \n",
       "211220          0      0          0         0       0          0          0   \n",
       "211221          0      0          0         0       1          0          0   \n",
       "211222          0      0          0         0       0          0          0   \n",
       "211223          0      1          0         0       0          0          0   \n",
       "211224          0      0          0         0       0          0          0   \n",
       "\n",
       "        desire  ...  love  nervousness  optimism  pride  realization  relief   \n",
       "0            0  ...     0            0         0      0            0       0  \\\n",
       "1            0  ...     0            0         0      0            0       0   \n",
       "2            0  ...     0            0         0      0            0       0   \n",
       "3            0  ...     1            0         0      0            0       0   \n",
       "4            0  ...     0            0         0      0            0       0   \n",
       "...        ...  ...   ...          ...       ...    ...          ...     ...   \n",
       "211220       0  ...     1            0         0      0            0       0   \n",
       "211221       0  ...     0            0         0      0            0       0   \n",
       "211222       0  ...     0            0         0      0            0       0   \n",
       "211223       0  ...     0            0         0      0            0       0   \n",
       "211224       0  ...     0            0         0      0            0       0   \n",
       "\n",
       "        remorse  sadness  surprise  neutral  \n",
       "0             0        1         0        0  \n",
       "1             0        0         0        0  \n",
       "2             0        0         0        1  \n",
       "3             0        0         0        0  \n",
       "4             0        0         0        1  \n",
       "...         ...      ...       ...      ...  \n",
       "211220        0        0         0        0  \n",
       "211221        0        0         0        0  \n",
       "211222        0        0         0        0  \n",
       "211223        0        0         0        0  \n",
       "211224        0        0         0        0  \n",
       "\n",
       "[211225 rows x 29 columns]"
      ]
     },
     "execution_count": 4,
     "metadata": {},
     "output_type": "execute_result"
    }
   ],
   "source": [
    "data"
   ]
  },
  {
   "cell_type": "code",
   "execution_count": 5,
   "id": "175855c6",
   "metadata": {},
   "outputs": [],
   "source": [
    "id_to_label = {\n",
    "    0: 'admiration',\n",
    "    1: 'amusement',\n",
    "    2: 'anger',\n",
    "    3: 'annoyance',\n",
    "    4: 'approval',\n",
    "    5: 'caring',\n",
    "    6: 'confusion',\n",
    "    7: 'curiosity',\n",
    "    8: 'desire',\n",
    "    9: 'disappointment',\n",
    "    10: 'disapproval',\n",
    "    11: 'disgust',\n",
    "    12: 'embarrassment',\n",
    "    13: 'excitement',\n",
    "    14: 'fear',\n",
    "    15: 'gratitude',\n",
    "    16: 'grief',\n",
    "    17: 'joy',\n",
    "    18: 'love',\n",
    "    19: 'nervousness',\n",
    "    20: 'optimism',\n",
    "    21: 'pride',\n",
    "    22: 'realization',\n",
    "    23: 'relief',\n",
    "    24: 'remorse',\n",
    "    25: 'sadness',\n",
    "    26: 'surprise',\n",
    "    27: 'neutral',\n",
    "}"
   ]
  },
  {
   "cell_type": "code",
   "execution_count": 6,
   "id": "926a0927",
   "metadata": {},
   "outputs": [],
   "source": [
    "ru_emotions = {\n",
    "    0: 'восхищение',\n",
    "    1: 'веселье',\n",
    "    2: 'злость',\n",
    "    3: 'раздражение',\n",
    "    4: 'одобрение',\n",
    "    5: 'забота',\n",
    "    6: 'непонимание',\n",
    "    7: 'любопытство',\n",
    "    8: 'желание',\n",
    "    9: 'разочарование',\n",
    "    10: 'неодобрение',\n",
    "    11: 'отвращение',\n",
    "    12: 'смущение',\n",
    "    13: 'возбуждение',\n",
    "    14: 'страх',\n",
    "    15: 'признательность',\n",
    "    16: 'горе',\n",
    "    17: 'радость',\n",
    "    18: 'любовь',\n",
    "    19: 'нервозность',\n",
    "    20: 'оптимизм',\n",
    "    21: 'гордость',\n",
    "    22: 'осознание',\n",
    "    23: 'облегчение',\n",
    "    24: 'раскаяние',\n",
    "    25: 'грусть',\n",
    "    26: 'удивление',\n",
    "    27: 'нейтральность',\n",
    "    }"
   ]
  },
  {
   "cell_type": "code",
   "execution_count": 7,
   "id": "219e25da",
   "metadata": {},
   "outputs": [],
   "source": [
    "translate_emotion = {id_to_label[i]: ru_emotions[i] for i in range(len(id_to_label))}"
   ]
  },
  {
   "cell_type": "code",
   "execution_count": 8,
   "id": "89490157",
   "metadata": {},
   "outputs": [
    {
     "data": {
      "text/plain": [
       "{'admiration': 'восхищение',\n",
       " 'amusement': 'веселье',\n",
       " 'anger': 'злость',\n",
       " 'annoyance': 'раздражение',\n",
       " 'approval': 'одобрение',\n",
       " 'caring': 'забота',\n",
       " 'confusion': 'непонимание',\n",
       " 'curiosity': 'любопытство',\n",
       " 'desire': 'желание',\n",
       " 'disappointment': 'разочарование',\n",
       " 'disapproval': 'неодобрение',\n",
       " 'disgust': 'отвращение',\n",
       " 'embarrassment': 'смущение',\n",
       " 'excitement': 'возбуждение',\n",
       " 'fear': 'страх',\n",
       " 'gratitude': 'признательность',\n",
       " 'grief': 'горе',\n",
       " 'joy': 'радость',\n",
       " 'love': 'любовь',\n",
       " 'nervousness': 'нервозность',\n",
       " 'optimism': 'оптимизм',\n",
       " 'pride': 'гордость',\n",
       " 'realization': 'осознание',\n",
       " 'relief': 'облегчение',\n",
       " 'remorse': 'раскаяние',\n",
       " 'sadness': 'грусть',\n",
       " 'surprise': 'удивление',\n",
       " 'neutral': 'нейтральность'}"
      ]
     },
     "execution_count": 8,
     "metadata": {},
     "output_type": "execute_result"
    }
   ],
   "source": [
    "translate_emotion"
   ]
  },
  {
   "cell_type": "markdown",
   "id": "714bddcc-c56d-4e61-9147-054f5d7f8e7e",
   "metadata": {
    "jp-MarkdownHeadingCollapsed": true
   },
   "source": [
    "# Backbone"
   ]
  },
  {
   "cell_type": "markdown",
   "id": "c21a2f49-08a6-479a-8db7-a52d4db40d56",
   "metadata": {},
   "source": [
    "Load pretrained model from Hugging Face (or some other model repository if it's more convenient). Model should be trained on Feature Extraction task."
   ]
  },
  {
   "cell_type": "code",
   "execution_count": 9,
   "id": "d111bc81-dfb4-47fb-b3d8-42388b84a8cc",
   "metadata": {},
   "outputs": [
    {
     "name": "stderr",
     "output_type": "stream",
     "text": [
      "All PyTorch model weights were used when initializing TFBartModel.\n",
      "\n",
      "All the weights of TFBartModel were initialized from the PyTorch model.\n",
      "If your task is similar to the task the model of the checkpoint was trained on, you can already use TFBartModel for predictions without further training.\n"
     ]
    }
   ],
   "source": [
    "backbone = transformers.TFAutoModel.from_pretrained('./bart-base')"
   ]
  },
  {
   "cell_type": "markdown",
   "id": "4b81337a-c06e-4b33-9dff-61ff0c6858c9",
   "metadata": {},
   "source": [
    "Load tokenizer to be used with the model"
   ]
  },
  {
   "cell_type": "code",
   "execution_count": 10,
   "id": "4c7e98fb-a356-463d-a856-9b011efdcca1",
   "metadata": {},
   "outputs": [],
   "source": [
    "tokenizer = transformers.AutoTokenizer.from_pretrained('facebook/bart-base')"
   ]
  },
  {
   "cell_type": "markdown",
   "id": "c045f3c1-faf9-41fc-af88-a4f49c97ac13",
   "metadata": {
    "jp-MarkdownHeadingCollapsed": true
   },
   "source": [
    "# Feature extraction"
   ]
  },
  {
   "cell_type": "markdown",
   "id": "1025d0d6-3b43-440a-8791-27b3e208e415",
   "metadata": {},
   "source": [
    "Since we will not be training the backbone, extract features from your dataset."
   ]
  },
  {
   "cell_type": "markdown",
   "id": "75fb0bf5-6e28-49fa-a0c3-e5b3fd51e7f7",
   "metadata": {},
   "source": [
    "Tokenize all your sequences. Truncate/pad the squences for convenience. If the sequences are too large to be stored in memory, lazily save them on disk."
   ]
  },
  {
   "cell_type": "code",
   "execution_count": null,
   "id": "e3fcfd80-cfba-45e2-8767-05bd5169b814",
   "metadata": {},
   "outputs": [],
   "source": [
    "tokenize_seq = []\n",
    "\n",
    "for text in tqdm.tqdm(data['text']):\n",
    "    tokenize_seq.append(tokenizer(text))\n",
    "\n",
    "with open('tokenize_seq', 'wb') as file:\n",
    "    pickle.dump(tokenize_seq, file)"
   ]
  },
  {
   "cell_type": "code",
   "execution_count": 11,
   "id": "cc806fa8",
   "metadata": {},
   "outputs": [],
   "source": [
    "with open('tokenize_seq', 'rb') as file:\n",
    "    tokenize_seq = pickle.load(file)"
   ]
  },
  {
   "cell_type": "markdown",
   "id": "4a2b4b64-ee2e-4a2a-8d81-161f8bf1aae4",
   "metadata": {},
   "source": [
    "Run the backbone on the sequences and save the extracted features. The extracted features should be a vector containing information about the whole text. If the features are too large to be stored in memory, lazily save them on disk."
   ]
  },
  {
   "cell_type": "code",
   "execution_count": 12,
   "id": "d9e353cf",
   "metadata": {},
   "outputs": [],
   "source": [
    "X = tf.keras.preprocessing.sequence.pad_sequences([i['input_ids'] for i in tokenize_seq], maxlen=128, truncating='post', padding='post', value=tokenizer.pad_token_id)"
   ]
  },
  {
   "cell_type": "code",
   "execution_count": 13,
   "id": "b325f526",
   "metadata": {},
   "outputs": [],
   "source": [
    "y = data[data.columns.difference(['text'])].values"
   ]
  },
  {
   "cell_type": "code",
   "execution_count": 14,
   "id": "276e08e1",
   "metadata": {},
   "outputs": [],
   "source": [
    "text_dataset = tf.data.Dataset.from_tensor_slices(X).batch(64)"
   ]
  },
  {
   "cell_type": "code",
   "execution_count": null,
   "id": "dd7f7a4f",
   "metadata": {},
   "outputs": [],
   "source": [
    "features = []\n",
    "\n",
    "for data in tqdm.tqdm(text_dataset):\n",
    "    features.extend(tf.math.reduce_mean(backbone(data).last_hidden_state, axis=1))\n",
    "\n",
    "features = np.array(features)\n",
    "np.save('features.npy', features)"
   ]
  },
  {
   "cell_type": "code",
   "execution_count": 15,
   "id": "d6c867ff",
   "metadata": {},
   "outputs": [],
   "source": [
    "features = np.load('features.npy')"
   ]
  },
  {
   "cell_type": "code",
   "execution_count": 16,
   "id": "83e7088d",
   "metadata": {},
   "outputs": [
    {
     "data": {
      "text/plain": [
       "(array([[ 1.9268482 , -1.8083783 ,  1.1634356 , ..., -0.25005838,\n",
       "          1.684664  ,  0.59326035],\n",
       "        [ 1.2231605 , -1.1030577 , -0.28428376, ...,  1.1343532 ,\n",
       "          1.3022391 ,  0.54750144],\n",
       "        [ 1.9432738 , -1.8364208 ,  0.81785935, ...,  0.1901779 ,\n",
       "          0.8832531 ,  0.98668087],\n",
       "        ...,\n",
       "        [ 2.0871496 , -1.9621882 ,  0.7568142 , ..., -0.07704715,\n",
       "          1.2768964 ,  0.62696475],\n",
       "        [ 1.5172942 , -1.0947775 , -0.6264874 , ...,  0.84136087,\n",
       "          1.7282301 ,  1.0637035 ],\n",
       "        [ 1.5030369 , -0.8643758 , -0.8128365 , ...,  1.1897686 ,\n",
       "          1.5710945 ,  0.9328568 ]], dtype=float32),\n",
       " (211225, 768))"
      ]
     },
     "execution_count": 16,
     "metadata": {},
     "output_type": "execute_result"
    }
   ],
   "source": [
    "features, features.shape"
   ]
  },
  {
   "cell_type": "markdown",
   "id": "2543fcff-46b0-4c05-b297-c3102f998205",
   "metadata": {
    "jp-MarkdownHeadingCollapsed": true
   },
   "source": [
    "# Prepare train/test data"
   ]
  },
  {
   "cell_type": "markdown",
   "id": "2c985c7d-9123-477e-9988-15ff5a7b26eb",
   "metadata": {},
   "source": [
    "Split your data (extracted features and labels) into train and test subsets."
   ]
  },
  {
   "cell_type": "code",
   "execution_count": 17,
   "id": "5460c05a-f5e7-4935-a6ff-074ca21fa01b",
   "metadata": {},
   "outputs": [],
   "source": [
    "X_train, X_test, y_train, y_test = sklearn.model_selection.train_test_split(features, y)"
   ]
  },
  {
   "cell_type": "code",
   "execution_count": 18,
   "id": "4825e65e",
   "metadata": {},
   "outputs": [],
   "source": [
    "X_train_dataset = tf.data.Dataset.from_tensor_slices(X_train)\n",
    "X_test_dataset = tf.data.Dataset.from_tensor_slices(X_test)\n",
    "y_train_dataset = tf.data.Dataset.from_tensor_slices(y_train)\n",
    "y_test_dataset = tf.data.Dataset.from_tensor_slices(y_test)"
   ]
  },
  {
   "cell_type": "markdown",
   "id": "b1a65639-50d0-4f89-8bfe-33b7a483e406",
   "metadata": {},
   "source": [
    "Prepare `tf.data.Dataset` or some other way for the data to be used during training."
   ]
  },
  {
   "cell_type": "code",
   "execution_count": 19,
   "id": "07849c2e-c7d1-4620-9590-962fa554ed8f",
   "metadata": {},
   "outputs": [],
   "source": [
    "train_dataset = tf.data.Dataset.zip((X_train_dataset, y_train_dataset)).batch(256)\n",
    "test_dataset = tf.data.Dataset.zip((X_test_dataset, y_test_dataset)).batch(256)"
   ]
  },
  {
   "cell_type": "markdown",
   "id": "e8f74abd-ce1a-4a68-be6c-89b1abd0caa5",
   "metadata": {
    "jp-MarkdownHeadingCollapsed": true
   },
   "source": [
    "# Build the model"
   ]
  },
  {
   "cell_type": "markdown",
   "id": "78885e31-c91e-4ee5-acbf-00a107069da9",
   "metadata": {},
   "source": [
    "Build a simple model. The model should accept an extracted feature vector and return a vector of class logits (or probabilities). Model should only have a couple (or even 1) layer with weights."
   ]
  },
  {
   "cell_type": "code",
   "execution_count": 20,
   "id": "4522f1a0-1555-4dcd-9117-3e975d6f781b",
   "metadata": {},
   "outputs": [],
   "source": [
    "inputs = tf.keras.layers.Input(768, name='input', dtype=tf.float32)\n",
    "x = tf.keras.layers.Dense(512, name='dense-1', activation='relu')(inputs)\n",
    "x = tf.keras.layers.Dense(256, name='dense-2', activation='relu')(x)\n",
    "x = tf.keras.layers.Dense(len(translate_emotion), name='presiction', activation='sigmoid')(x)\n",
    "model = tf.keras.Model(inputs=inputs, outputs=x, name='minecraft')"
   ]
  },
  {
   "cell_type": "markdown",
   "id": "a5cacc4e-9876-40ff-8cd0-f1a4bfbc5c1a",
   "metadata": {},
   "source": [
    "Compile the model. Choose loss and metrics."
   ]
  },
  {
   "cell_type": "code",
   "execution_count": 21,
   "id": "ad74527b-c793-40da-af8e-66172db170f1",
   "metadata": {},
   "outputs": [],
   "source": [
    "model.compile(loss=tf.keras.losses.BinaryCrossentropy(), optimizer='adam', metrics=[tf.keras.metrics.Precision()])"
   ]
  },
  {
   "cell_type": "markdown",
   "id": "3e08006d-be0a-4828-aca9-a9f37218b8de",
   "metadata": {
    "jp-MarkdownHeadingCollapsed": true
   },
   "source": [
    "# Train the model"
   ]
  },
  {
   "cell_type": "code",
   "execution_count": 22,
   "id": "6a30787b-7ac4-4dd3-9ea5-62c94e9aa628",
   "metadata": {},
   "outputs": [
    {
     "name": "stdout",
     "output_type": "stream",
     "text": [
      "Epoch 1/5\n",
      "619/619 [==============================] - 7s 10ms/step - loss: 0.1496 - precision: 0.4026 - val_loss: 0.1401 - val_precision: 0.6668\n",
      "Epoch 2/5\n",
      "619/619 [==============================] - 5s 7ms/step - loss: 0.1375 - precision: 0.6244 - val_loss: 0.1366 - val_precision: 0.6645\n",
      "Epoch 3/5\n",
      "619/619 [==============================] - 4s 7ms/step - loss: 0.1340 - precision: 0.6371 - val_loss: 0.1346 - val_precision: 0.7077\n",
      "Epoch 4/5\n",
      "619/619 [==============================] - 4s 7ms/step - loss: 0.1319 - precision: 0.6441 - val_loss: 0.1333 - val_precision: 0.7321\n",
      "Epoch 5/5\n",
      "619/619 [==============================] - 5s 7ms/step - loss: 0.1306 - precision: 0.6455 - val_loss: 0.1324 - val_precision: 0.7131\n"
     ]
    },
    {
     "data": {
      "text/plain": [
       "<keras.callbacks.History at 0x2e11c081960>"
      ]
     },
     "execution_count": 22,
     "metadata": {},
     "output_type": "execute_result"
    }
   ],
   "source": [
    "model.fit(train_dataset, validation_data=test_dataset, epochs=5)"
   ]
  },
  {
   "cell_type": "markdown",
   "id": "3980f062-220a-4a11-b9f5-3b0e41804533",
   "metadata": {
    "jp-MarkdownHeadingCollapsed": true
   },
   "source": [
    "# Evaluation"
   ]
  },
  {
   "cell_type": "markdown",
   "id": "4b6008a2-9882-44f2-946c-23827aa5fa49",
   "metadata": {},
   "source": [
    "Evalute the model on test data."
   ]
  },
  {
   "cell_type": "code",
   "execution_count": 23,
   "id": "1b4ddf9e-5710-4c7f-ac58-4d94742c0d14",
   "metadata": {},
   "outputs": [
    {
     "name": "stdout",
     "output_type": "stream",
     "text": [
      "413/413 [==============================] - 3s 6ms/step - loss: 0.1324 - precision: 0.7131\n"
     ]
    },
    {
     "data": {
      "text/plain": [
       "[0.1324434131383896, 0.7131015062332153]"
      ]
     },
     "execution_count": 23,
     "metadata": {},
     "output_type": "execute_result"
    }
   ],
   "source": [
    "model.evaluate(X_test, y_test, batch_size=128)"
   ]
  },
  {
   "cell_type": "markdown",
   "id": "c96f4ae8-6b6c-4c4d-94dc-be8062b7e982",
   "metadata": {},
   "source": [
    "Plot confusion matrix."
   ]
  },
  {
   "cell_type": "code",
   "execution_count": 24,
   "id": "b092eae2-5f9a-42cc-ba04-ae9b9f67df7e",
   "metadata": {},
   "outputs": [
    {
     "name": "stdout",
     "output_type": "stream",
     "text": [
      "1651/1651 [==============================] - 4s 2ms/step\n"
     ]
    },
    {
     "data": {
      "text/plain": [
       "<sklearn.metrics._plot.confusion_matrix.ConfusionMatrixDisplay at 0x2e0b63f3ca0>"
      ]
     },
     "execution_count": 24,
     "metadata": {},
     "output_type": "execute_result"
    },
    {
     "data": {
      "image/png": "[encoded data removed]",
      "text/plain": [
       "<Figure size 640x480 with 2 Axes>"
      ]
     },
     "metadata": {},
     "output_type": "display_data"
    }
   ],
   "source": [
    "ConfusionMatrixDisplay.from_predictions(y_test[:, 2], np.where(model.predict(X_test)[:, 2] >= 0.37, 1, 0))"
   ]
  },
  {
   "cell_type": "code",
   "execution_count": 25,
   "id": "e3d17977",
   "metadata": {},
   "outputs": [
    {
     "name": "stdout",
     "output_type": "stream",
     "text": [
      "1651/1651 [==============================] - 3s 2ms/step\n"
     ]
    },
    {
     "data": {
      "text/plain": [
       "0.3919503873707488"
      ]
     },
     "execution_count": 25,
     "metadata": {},
     "output_type": "execute_result"
    }
   ],
   "source": [
    "predict = model.predict(X_test)\n",
    "best_threshold = 0\n",
    "\n",
    "for threshold in np.arange(0, 1, 0.01):\n",
    "    y_pred = np.where(predict >= threshold, 1, 0)\n",
    "    score = precision_score(y_test, y_pred, average='macro', zero_division=0)\n",
    "\n",
    "    if score > best_threshold:\n",
    "        best_threshold = score\n",
    "\n",
    "best_threshold"
   ]
  },
  {
   "cell_type": "markdown",
   "id": "6997d559-de7f-4e67-96f1-85df047dcbb7",
   "metadata": {},
   "source": [
    "Write a function to classify a piece of text."
   ]
  },
  {
   "cell_type": "code",
   "execution_count": 26,
   "id": "21a748d8-b5a2-4f90-a3d8-ee36d69d34fb",
   "metadata": {},
   "outputs": [],
   "source": [
    "def classify_text(text: str) -> tuple[list[int], np.ndarray]:\n",
    "    data = tokenizer(text)\n",
    "    data = tf.keras.preprocessing.sequence.pad_sequences([data['input_ids']], maxlen=128, truncating='post', padding='post', value=tokenizer.pad_token_id)\n",
    "    features = tf.math.reduce_mean(backbone(data).last_hidden_state, axis=1)\n",
    "    predict = model.predict(features)\n",
    "    classes = np.where(predict >= best_threshold, 1, 0)[0]\n",
    "    return [id[0] for id in np.where(classes == 1) if id], predict"
   ]
  },
  {
   "cell_type": "code",
   "execution_count": 27,
   "id": "64942b02",
   "metadata": {},
   "outputs": [],
   "source": [
    "def convert_label2text(data: tuple[list[int], np.ndarray]) -> list[str]:\n",
    "    return [id_to_label[id] for id in data[0] if data[0]]"
   ]
  },
  {
   "cell_type": "code",
   "execution_count": 28,
   "id": "64cf1219",
   "metadata": {},
   "outputs": [
    {
     "name": "stdout",
     "output_type": "stream",
     "text": [
      "1/1 [==============================] - 0s 18ms/step\n"
     ]
    },
    {
     "name": "stderr",
     "output_type": "stream",
     "text": [
      "C:\\Users\\dmitry\\AppData\\Local\\Temp\\ipykernel_14396\\4117035192.py:7: DeprecationWarning: The truth value of an empty array is ambiguous. Returning False, but in future this will result in an error. Use `array.size > 0` to check that an array is not empty.\n",
      "  return [id[0] for id in np.where(classes == 1) if id], predict\n"
     ]
    },
    {
     "data": {
      "text/plain": [
       "([],\n",
       " array([[0.07956127, 0.00627405, 0.02178998, 0.04230726, 0.10587922,\n",
       "         0.02834583, 0.00492932, 0.00323248, 0.00790515, 0.02205418,\n",
       "         0.03054773, 0.00475839, 0.00582497, 0.01508575, 0.01340399,\n",
       "         0.00599222, 0.00104086, 0.01844314, 0.00058763, 0.00346053,\n",
       "         0.33310685, 0.02446808, 0.00344593, 0.01489731, 0.00659389,\n",
       "         0.00350331, 0.02138428, 0.00707013]], dtype=float32))"
      ]
     },
     "execution_count": 28,
     "metadata": {},
     "output_type": "execute_result"
    }
   ],
   "source": [
    "classify_text('some text...')"
   ]
  },
  {
   "cell_type": "markdown",
   "id": "8f2043ad-8f1b-4c17-8f11-23487f66db5f",
   "metadata": {},
   "source": [
    "Evaluate the model on text not present in training and test data (come up with the text yourself). Try to get an input for each class."
   ]
  },
  {
   "cell_type": "code",
   "execution_count": 29,
   "id": "b27c5386-cc1b-4040-a5b7-cb8d26965fd4",
   "metadata": {},
   "outputs": [
    {
     "name": "stdout",
     "output_type": "stream",
     "text": [
      "1/1 [==============================] - 0s 18ms/step\n"
     ]
    },
    {
     "data": {
      "text/plain": [
       "['love']"
      ]
     },
     "execution_count": 29,
     "metadata": {},
     "output_type": "execute_result"
    }
   ],
   "source": [
    "convert_label2text(classify_text('i love my life'))"
   ]
  }
 ],
 "metadata": {
  "kernelspec": {
   "display_name": "Python 3 (ipykernel)",
   "language": "python",
   "name": "python3"
  },
  "language_info": {
   "codemirror_mode": {
    "name": "ipython",
    "version": 3
   },
   "file_extension": ".py",
   "mimetype": "text/x-python",
   "name": "python",
   "nbconvert_exporter": "python",
   "pygments_lexer": "ipython3",
   "version": "3.10.8"
  }
 },
 "nbformat": 4,
 "nbformat_minor": 5
}
