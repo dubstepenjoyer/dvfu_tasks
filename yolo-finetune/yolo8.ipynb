{
 "cells": [
  {
   "cell_type": "code",
   "execution_count": null,
   "metadata": {},
   "outputs": [],
   "source": [
    "!git clone https://huggingface.co/datasets/cj-mills/hagrid-sample-30k-384p"
   ]
  },
  {
   "cell_type": "code",
   "execution_count": null,
   "metadata": {},
   "outputs": [],
   "source": [
    "!mkdir funny_people_dataset && cd \"$_\"\n",
    "!mkdir images labels\n",
    "!mkdir images/train images/val && cd ..\n",
    "!mkdir labels/train labels/val"
   ]
  },
  {
   "cell_type": "code",
   "execution_count": null,
   "metadata": {},
   "outputs": [],
   "source": [
    "!cd hagrid-sample-30k-384p"
   ]
  },
  {
   "cell_type": "code",
   "execution_count": null,
   "metadata": {},
   "outputs": [],
   "source": [
    "!sudo apt install unzip\n",
    "!unzip hagrid-sample-30k-384p.zip"
   ]
  },
  {
   "cell_type": "code",
   "execution_count": 1,
   "metadata": {},
   "outputs": [],
   "source": [
    "from ultralytics import YOLO\n",
    "import pandas as pd\n",
    "import numpy as np\n",
    "import os\n",
    "import torch\n",
    "import sklearn.model_selection"
   ]
  },
  {
   "cell_type": "code",
   "execution_count": 2,
   "metadata": {},
   "outputs": [
    {
     "data": {
      "text/plain": [
       "True"
      ]
     },
     "execution_count": 2,
     "metadata": {},
     "output_type": "execute_result"
    }
   ],
   "source": [
    "torch.cuda.is_available()"
   ]
  },
  {
   "cell_type": "code",
   "execution_count": 3,
   "metadata": {},
   "outputs": [],
   "source": [
    "classes = [\n",
    "    'call',\n",
    "    'no_gesture',\n",
    "    'dislike',\n",
    "    'fist',\n",
    "    'four',\n",
    "    'like',\n",
    "    'mute',\n",
    "    'ok',\n",
    "    'one',\n",
    "    'palm',\n",
    "    'peace',\n",
    "    'peace_inverted',\n",
    "    'rock',\n",
    "    'stop',\n",
    "    'stop_inverted',\n",
    "    'three',\n",
    "    'three2',\n",
    "    'two_up',\n",
    "    'two_up_inverted'\n",
    "    ]"
   ]
  },
  {
   "cell_type": "code",
   "execution_count": 4,
   "metadata": {},
   "outputs": [
    {
     "data": {
      "text/plain": [
       "{'call': 0,\n",
       " 'no_gesture': 1,\n",
       " 'dislike': 2,\n",
       " 'fist': 3,\n",
       " 'four': 4,\n",
       " 'like': 5,\n",
       " 'mute': 6,\n",
       " 'ok': 7,\n",
       " 'one': 8,\n",
       " 'palm': 9,\n",
       " 'peace': 10,\n",
       " 'peace_inverted': 11,\n",
       " 'rock': 12,\n",
       " 'stop': 13,\n",
       " 'stop_inverted': 14,\n",
       " 'three': 15,\n",
       " 'three2': 16,\n",
       " 'two_up': 17,\n",
       " 'two_up_inverted': 18}"
      ]
     },
     "execution_count": 4,
     "metadata": {},
     "output_type": "execute_result"
    }
   ],
   "source": [
    "class_to_id = {class_name: id for id, class_name in enumerate(classes)}\n",
    "class_to_id"
   ]
  },
  {
   "cell_type": "code",
   "execution_count": 5,
   "metadata": {},
   "outputs": [],
   "source": [
    "data = pd.read_parquet('./hagrid-sample-30k-384p/hagrid-sample-30k-384p/annotations_df.parquet').drop(['leading_hand', 'leading_conf', 'user_id'], axis=1)"
   ]
  },
  {
   "cell_type": "code",
   "execution_count": 6,
   "metadata": {},
   "outputs": [
    {
     "data": {
      "text/html": [
       "<div>\n",
       "<style scoped>\n",
       "    .dataframe tbody tr th:only-of-type {\n",
       "        vertical-align: middle;\n",
       "    }\n",
       "\n",
       "    .dataframe tbody tr th {\n",
       "        vertical-align: top;\n",
       "    }\n",
       "\n",
       "    .dataframe thead th {\n",
       "        text-align: right;\n",
       "    }\n",
       "</style>\n",
       "<table border=\"1\" class=\"dataframe\">\n",
       "  <thead>\n",
       "    <tr style=\"text-align: right;\">\n",
       "      <th></th>\n",
       "      <th>bboxes</th>\n",
       "      <th>labels</th>\n",
       "    </tr>\n",
       "  </thead>\n",
       "  <tbody>\n",
       "    <tr>\n",
       "      <th>00005c9c-3548-4a8f-9d0b-2dd4aff37fc9</th>\n",
       "      <td>[[0.23925175, 0.28595301, 0.25055143, 0.207776...</td>\n",
       "      <td>[call]</td>\n",
       "    </tr>\n",
       "    <tr>\n",
       "      <th>0020a3db-82d8-47aa-8642-2715d4744db5</th>\n",
       "      <td>[[0.5801012999999999, 0.53265105, 0.14562138, ...</td>\n",
       "      <td>[call]</td>\n",
       "    </tr>\n",
       "    <tr>\n",
       "      <th>004ac93f-0f7c-49a4-aadc-737e0ad4273c</th>\n",
       "      <td>[[0.46294793, 0.26419774, 0.13834939000000002,...</td>\n",
       "      <td>[call]</td>\n",
       "    </tr>\n",
       "    <tr>\n",
       "      <th>006cac69-d3f0-47f9-aac9-38702d038ef1</th>\n",
       "      <td>[[0.38799208, 0.44643898, 0.27068787, 0.182778...</td>\n",
       "      <td>[call]</td>\n",
       "    </tr>\n",
       "    <tr>\n",
       "      <th>00973fac-440e-4a56-b60c-2a06d5fb155d</th>\n",
       "      <td>[[0.40980118, 0.38144198, 0.08338464, 0.062297...</td>\n",
       "      <td>[call, no_gesture]</td>\n",
       "    </tr>\n",
       "    <tr>\n",
       "      <th>...</th>\n",
       "      <td>...</td>\n",
       "      <td>...</td>\n",
       "    </tr>\n",
       "    <tr>\n",
       "      <th>f4fd00a3-1f1e-4594-be3f-362229e430e1</th>\n",
       "      <td>[[0.46801204, 0.37731512, 0.20508805, 0.200085...</td>\n",
       "      <td>[two_up_inverted]</td>\n",
       "    </tr>\n",
       "    <tr>\n",
       "      <th>f7308b1f-0433-42c3-b388-08e0ab2a84a7</th>\n",
       "      <td>[[0.30225301, 0.22838633, 0.12823989, 0.180910...</td>\n",
       "      <td>[two_up_inverted]</td>\n",
       "    </tr>\n",
       "    <tr>\n",
       "      <th>f9103c94-a36e-44ea-acf4-f8ff36d4a2bf</th>\n",
       "      <td>[[0.19668888, 0.42850023, 0.1132281, 0.1760887...</td>\n",
       "      <td>[two_up_inverted, no_gesture]</td>\n",
       "    </tr>\n",
       "    <tr>\n",
       "      <th>faf1d2ff-f273-47b2-a76b-30bc296703cd</th>\n",
       "      <td>[[0.49250894, 0.54393085, 0.05427064, 0.090299...</td>\n",
       "      <td>[two_up_inverted, no_gesture]</td>\n",
       "    </tr>\n",
       "    <tr>\n",
       "      <th>fd1bf83f-d524-46f7-af88-fd448864e59e</th>\n",
       "      <td>[[0.31015179, 0.23072395, 0.09140199, 0.162342...</td>\n",
       "      <td>[two_up_inverted, no_gesture]</td>\n",
       "    </tr>\n",
       "  </tbody>\n",
       "</table>\n",
       "<p>31833 rows × 2 columns</p>\n",
       "</div>"
      ],
      "text/plain": [
       "                                                                                 bboxes   \n",
       "00005c9c-3548-4a8f-9d0b-2dd4aff37fc9  [[0.23925175, 0.28595301, 0.25055143, 0.207776...  \\\n",
       "0020a3db-82d8-47aa-8642-2715d4744db5  [[0.5801012999999999, 0.53265105, 0.14562138, ...   \n",
       "004ac93f-0f7c-49a4-aadc-737e0ad4273c  [[0.46294793, 0.26419774, 0.13834939000000002,...   \n",
       "006cac69-d3f0-47f9-aac9-38702d038ef1  [[0.38799208, 0.44643898, 0.27068787, 0.182778...   \n",
       "00973fac-440e-4a56-b60c-2a06d5fb155d  [[0.40980118, 0.38144198, 0.08338464, 0.062297...   \n",
       "...                                                                                 ...   \n",
       "f4fd00a3-1f1e-4594-be3f-362229e430e1  [[0.46801204, 0.37731512, 0.20508805, 0.200085...   \n",
       "f7308b1f-0433-42c3-b388-08e0ab2a84a7  [[0.30225301, 0.22838633, 0.12823989, 0.180910...   \n",
       "f9103c94-a36e-44ea-acf4-f8ff36d4a2bf  [[0.19668888, 0.42850023, 0.1132281, 0.1760887...   \n",
       "faf1d2ff-f273-47b2-a76b-30bc296703cd  [[0.49250894, 0.54393085, 0.05427064, 0.090299...   \n",
       "fd1bf83f-d524-46f7-af88-fd448864e59e  [[0.31015179, 0.23072395, 0.09140199, 0.162342...   \n",
       "\n",
       "                                                             labels  \n",
       "00005c9c-3548-4a8f-9d0b-2dd4aff37fc9                         [call]  \n",
       "0020a3db-82d8-47aa-8642-2715d4744db5                         [call]  \n",
       "004ac93f-0f7c-49a4-aadc-737e0ad4273c                         [call]  \n",
       "006cac69-d3f0-47f9-aac9-38702d038ef1                         [call]  \n",
       "00973fac-440e-4a56-b60c-2a06d5fb155d             [call, no_gesture]  \n",
       "...                                                             ...  \n",
       "f4fd00a3-1f1e-4594-be3f-362229e430e1              [two_up_inverted]  \n",
       "f7308b1f-0433-42c3-b388-08e0ab2a84a7              [two_up_inverted]  \n",
       "f9103c94-a36e-44ea-acf4-f8ff36d4a2bf  [two_up_inverted, no_gesture]  \n",
       "faf1d2ff-f273-47b2-a76b-30bc296703cd  [two_up_inverted, no_gesture]  \n",
       "fd1bf83f-d524-46f7-af88-fd448864e59e  [two_up_inverted, no_gesture]  \n",
       "\n",
       "[31833 rows x 2 columns]"
      ]
     },
     "execution_count": 6,
     "metadata": {},
     "output_type": "execute_result"
    }
   ],
   "source": [
    "data"
   ]
  },
  {
   "cell_type": "code",
   "execution_count": 7,
   "metadata": {},
   "outputs": [],
   "source": [
    "root_path = './hagrid-sample-30k-384p/hagrid-sample-30k-384p/hagrid_30k/'\n",
    "distination = './funny_people_dataset/images/'"
   ]
  },
  {
   "cell_type": "code",
   "execution_count": 8,
   "metadata": {},
   "outputs": [],
   "source": [
    "def pd_from_path(directory: str) -> pd.DataFrame:\n",
    "    data = []\n",
    "    for path, _, files in os.walk(directory):\n",
    "        for file in files:\n",
    "            if file.endswith(('.jpg', '.png', '.jpeg')):\n",
    "                data.append((f'{path}/{file}', file))\n",
    "\n",
    "    return pd.DataFrame(data, columns=['imagepath', 'filename'])"
   ]
  },
  {
   "cell_type": "code",
   "execution_count": null,
   "metadata": {},
   "outputs": [],
   "source": [
    "train_images, val_images = sklearn.model_selection.train_test_split(pd_from_path(root_path), test_size=0.05, train_size=0.95, shuffle=True)"
   ]
  },
  {
   "cell_type": "code",
   "execution_count": 17,
   "metadata": {},
   "outputs": [],
   "source": [
    "def move_img(df: pd.DataFrame, distination: str, split: str):\n",
    "    for _, row in df.iterrows():\n",
    "        os.rename(row.imagepath, f'{distination}{split}/{row.filename}')"
   ]
  },
  {
   "cell_type": "code",
   "execution_count": 18,
   "metadata": {},
   "outputs": [],
   "source": [
    "move_img(train_images, distination, 'train')\n",
    "move_img(val_images, distination, 'val')"
   ]
  },
  {
   "cell_type": "code",
   "execution_count": 24,
   "metadata": {},
   "outputs": [
    {
     "data": {
      "text/html": [
       "<div>\n",
       "<style scoped>\n",
       "    .dataframe tbody tr th:only-of-type {\n",
       "        vertical-align: middle;\n",
       "    }\n",
       "\n",
       "    .dataframe tbody tr th {\n",
       "        vertical-align: top;\n",
       "    }\n",
       "\n",
       "    .dataframe thead th {\n",
       "        text-align: right;\n",
       "    }\n",
       "</style>\n",
       "<table border=\"1\" class=\"dataframe\">\n",
       "  <thead>\n",
       "    <tr style=\"text-align: right;\">\n",
       "      <th></th>\n",
       "      <th>imagepath</th>\n",
       "      <th>filename</th>\n",
       "    </tr>\n",
       "  </thead>\n",
       "  <tbody>\n",
       "    <tr>\n",
       "      <th>22679</th>\n",
       "      <td>./hagrid-sample-30k-384p/hagrid-sample-30k-384...</td>\n",
       "      <td>dc8d0763-b8d9-4873-bbdd-cdddc5988c53.jpg</td>\n",
       "    </tr>\n",
       "    <tr>\n",
       "      <th>21592</th>\n",
       "      <td>./hagrid-sample-30k-384p/hagrid-sample-30k-384...</td>\n",
       "      <td>3c8d72bc-4bf5-4df3-a786-f62b75f55daa.jpg</td>\n",
       "    </tr>\n",
       "    <tr>\n",
       "      <th>11686</th>\n",
       "      <td>./hagrid-sample-30k-384p/hagrid-sample-30k-384...</td>\n",
       "      <td>9980bd86-7d0f-4fee-90c0-2ee7f21408c5.jpg</td>\n",
       "    </tr>\n",
       "    <tr>\n",
       "      <th>7879</th>\n",
       "      <td>./hagrid-sample-30k-384p/hagrid-sample-30k-384...</td>\n",
       "      <td>75ac7400-c98f-4612-b5b1-05a4358f6aa7.jpg</td>\n",
       "    </tr>\n",
       "    <tr>\n",
       "      <th>17483</th>\n",
       "      <td>./hagrid-sample-30k-384p/hagrid-sample-30k-384...</td>\n",
       "      <td>e1706ad3-7c05-42c3-af39-341d1afa1a5a.jpg</td>\n",
       "    </tr>\n",
       "    <tr>\n",
       "      <th>...</th>\n",
       "      <td>...</td>\n",
       "      <td>...</td>\n",
       "    </tr>\n",
       "    <tr>\n",
       "      <th>13123</th>\n",
       "      <td>./hagrid-sample-30k-384p/hagrid-sample-30k-384...</td>\n",
       "      <td>6acd35ad-e22e-463e-9a9e-32fa6e8ccbc2.jpg</td>\n",
       "    </tr>\n",
       "    <tr>\n",
       "      <th>19648</th>\n",
       "      <td>./hagrid-sample-30k-384p/hagrid-sample-30k-384...</td>\n",
       "      <td>1f2bfd0a-55c7-4ca8-8d04-c0f4f20c1f56.jpg</td>\n",
       "    </tr>\n",
       "    <tr>\n",
       "      <th>9845</th>\n",
       "      <td>./hagrid-sample-30k-384p/hagrid-sample-30k-384...</td>\n",
       "      <td>90eb9b58-7a96-468a-959b-780f7fd418b6.jpg</td>\n",
       "    </tr>\n",
       "    <tr>\n",
       "      <th>10799</th>\n",
       "      <td>./hagrid-sample-30k-384p/hagrid-sample-30k-384...</td>\n",
       "      <td>1836327a-4cf3-40dc-a1ed-fa1eaa3298bb.jpg</td>\n",
       "    </tr>\n",
       "    <tr>\n",
       "      <th>2732</th>\n",
       "      <td>./hagrid-sample-30k-384p/hagrid-sample-30k-384...</td>\n",
       "      <td>8b96d3a9-cf84-46ca-9097-ecb30e7fb405.jpg</td>\n",
       "    </tr>\n",
       "  </tbody>\n",
       "</table>\n",
       "<p>30241 rows × 2 columns</p>\n",
       "</div>"
      ],
      "text/plain": [
       "                                               imagepath   \n",
       "22679  ./hagrid-sample-30k-384p/hagrid-sample-30k-384...  \\\n",
       "21592  ./hagrid-sample-30k-384p/hagrid-sample-30k-384...   \n",
       "11686  ./hagrid-sample-30k-384p/hagrid-sample-30k-384...   \n",
       "7879   ./hagrid-sample-30k-384p/hagrid-sample-30k-384...   \n",
       "17483  ./hagrid-sample-30k-384p/hagrid-sample-30k-384...   \n",
       "...                                                  ...   \n",
       "13123  ./hagrid-sample-30k-384p/hagrid-sample-30k-384...   \n",
       "19648  ./hagrid-sample-30k-384p/hagrid-sample-30k-384...   \n",
       "9845   ./hagrid-sample-30k-384p/hagrid-sample-30k-384...   \n",
       "10799  ./hagrid-sample-30k-384p/hagrid-sample-30k-384...   \n",
       "2732   ./hagrid-sample-30k-384p/hagrid-sample-30k-384...   \n",
       "\n",
       "                                       filename  \n",
       "22679  dc8d0763-b8d9-4873-bbdd-cdddc5988c53.jpg  \n",
       "21592  3c8d72bc-4bf5-4df3-a786-f62b75f55daa.jpg  \n",
       "11686  9980bd86-7d0f-4fee-90c0-2ee7f21408c5.jpg  \n",
       "7879   75ac7400-c98f-4612-b5b1-05a4358f6aa7.jpg  \n",
       "17483  e1706ad3-7c05-42c3-af39-341d1afa1a5a.jpg  \n",
       "...                                         ...  \n",
       "13123  6acd35ad-e22e-463e-9a9e-32fa6e8ccbc2.jpg  \n",
       "19648  1f2bfd0a-55c7-4ca8-8d04-c0f4f20c1f56.jpg  \n",
       "9845   90eb9b58-7a96-468a-959b-780f7fd418b6.jpg  \n",
       "10799  1836327a-4cf3-40dc-a1ed-fa1eaa3298bb.jpg  \n",
       "2732   8b96d3a9-cf84-46ca-9097-ecb30e7fb405.jpg  \n",
       "\n",
       "[30241 rows x 2 columns]"
      ]
     },
     "execution_count": 24,
     "metadata": {},
     "output_type": "execute_result"
    }
   ],
   "source": [
    "train_images"
   ]
  },
  {
   "cell_type": "code",
   "execution_count": 36,
   "metadata": {},
   "outputs": [],
   "source": [
    "labels_path = './funny_people_dataset/labels'\n",
    "\n",
    "def get_image_description(stplitted_data: pd.DataFrame, data: pd.DataFrame, labels_root_path: str, split: str):\n",
    "    for _, row in stplitted_data.iterrows():\n",
    "        image_name = row.filename.replace('.jpg', '')\n",
    "        with open(f'{labels_root_path}/{split}/{image_name}.txt', 'w+') as bboxes_discription:\n",
    "            image = data.loc[image_name]\n",
    "            for bboxes_amount in range(len(image.labels)):\n",
    "                top_left_x_point, top_left_y_point, width, height = image.bboxes[bboxes_amount]\n",
    "                x_center, y_center = top_left_x_point + width / 2, top_left_y_point + height / 2\n",
    "                bbox_str = f'{class_to_id[image.labels[bboxes_amount]]} {x_center} {y_center} {width} {height}'\n",
    "                print(bbox_str, file=bboxes_discription)\n",
    "            bboxes_discription.close()"
   ]
  },
  {
   "cell_type": "code",
   "execution_count": 37,
   "metadata": {},
   "outputs": [],
   "source": [
    "get_image_description(train_images, data, labels_path, 'train')\n",
    "get_image_description(val_images, data, labels_path, 'val')"
   ]
  },
  {
   "cell_type": "code",
   "execution_count": 10,
   "metadata": {},
   "outputs": [],
   "source": [
    "model = YOLO('yolov8m.pt')"
   ]
  },
  {
   "cell_type": "code",
   "execution_count": null,
   "metadata": {},
   "outputs": [],
   "source": [
    "results = model.train(data='funny_people.yaml', epochs=10, imgsz=800, workers=1, device=0)"
   ]
  },
  {
   "cell_type": "code",
   "execution_count": null,
   "metadata": {},
   "outputs": [],
   "source": [
    "!yolo task=detect mode=train model=yolov8s.pt data={dataset.location}/funny_people.yaml epochs=100 imgsz=800"
   ]
  }
 ],
 "metadata": {
  "kernelspec": {
   "display_name": "Python 3",
   "language": "python",
   "name": "python3"
  },
  "language_info": {
   "codemirror_mode": {
    "name": "ipython",
    "version": 3
   },
   "file_extension": ".py",
   "mimetype": "text/x-python",
   "name": "python",
   "nbconvert_exporter": "python",
   "pygments_lexer": "ipython3",
   "version": "3.10.8"
  }
 },
 "nbformat": 4,
 "nbformat_minor": 2
}
