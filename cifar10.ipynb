{
 "cells": [
  {
   "cell_type": "code",
   "execution_count": null,
   "id": "7c7f3461-06b9-4c94-96e8-0d7dd887d5e4",
   "metadata": {
    "tags": []
   },
   "outputs": [],
   "source": [
    "import os\n",
    "import pickle\n",
    "import tarfile\n",
    "import datetime\n",
    "import numpy as np\n",
    "import urllib.request\n",
    "import sklearn.metrics\n",
    "import tensorflow as tf\n",
    "import matplotlib.pyplot as plt"
   ]
  },
  {
   "cell_type": "code",
   "execution_count": null,
   "id": "56b65412-40ad-491e-9e88-e5120d5843a2",
   "metadata": {
    "tags": []
   },
   "outputs": [],
   "source": [
    "gpus = tf.config.experimental.list_physical_devices('GPU')\n",
    "if gpus:\n",
    "    try:\n",
    "        for gpu in gpus:\n",
    "              tf.config.experimental.set_memory_growth(gpu, True)\n",
    "    except RuntimeError as e:\n",
    "        print(e)"
   ]
  },
  {
   "cell_type": "code",
   "execution_count": null,
   "id": "25b512c3-81f5-45f0-ac87-3b5c562a5755",
   "metadata": {
    "tags": []
   },
   "outputs": [],
   "source": [
    "%load_ext tensorboard"
   ]
  },
  {
   "cell_type": "code",
   "execution_count": null,
   "id": "fdd7e8ad-ffe9-48f7-bcb4-15ad187dca17",
   "metadata": {
    "tags": []
   },
   "outputs": [],
   "source": [
    "HISTORY_DIR = './history'\n",
    "os.makedirs(HISTORY_DIR, exist_ok=True)"
   ]
  },
  {
   "cell_type": "code",
   "execution_count": null,
   "id": "32ef6645-4464-4972-a7c9-added2395d95",
   "metadata": {
    "tags": []
   },
   "outputs": [],
   "source": [
    "def get_data():\n",
    "    if not os.path.exists('cifar-10-batches-py/'):\n",
    "        urllib.request.urlretrieve('https://www.cs.toronto.edu/~kriz/cifar-10-python.tar.gz', 'cifar-10-python.tar.gz')\n",
    "        file = tarfile.open('cifar-10-python.tar.gz', 'r:gz')\n",
    "        file.extractall()\n",
    "        \n",
    "    X, y = [], []\n",
    "    for i in range(1, 6):\n",
    "        d = pickle.load(open(os.path.join('cifar-10-batches-py', f'data_batch_{i}'), 'rb'), encoding='bytes')\n",
    "        X.append(d[b'data'])\n",
    "        y.append(d[b'labels'])\n",
    "        \n",
    "    d = pickle.load(open(os.path.join('cifar-10-batches-py', 'test_batch'), 'rb'), encoding='bytes')\n",
    "        \n",
    "    return (\n",
    "        np.concatenate(X, axis=0).reshape(-1, 3, 32, 32).transpose(0, 2, 3, 1),\n",
    "        np.concatenate(y, axis=0),\n",
    "        pickle.load(open('cifar-10-batches-py/batches.meta', 'rb'))['label_names'],\n",
    "        np.array(d[b'data']).reshape(-1, 3, 32, 32).transpose(0, 2, 3, 1),\n",
    "        np.array(d[b'labels'])\n",
    "    )"
   ]
  },
  {
   "cell_type": "code",
   "execution_count": null,
   "id": "d7ada0cc-8415-4375-89f2-717696281f5f",
   "metadata": {},
   "outputs": [],
   "source": [
    "def plot_confusion_matrix(model: tf.keras.models.Model, X: np.ndarray, y: np.ndarray, labels: list[str], batch_size: int = 8, **kwargs):\n",
    "    sklearn.metrics.ConfusionMatrixDisplay.from_predictions(\n",
    "        y,\n",
    "        model.predict(X, verbose=False, batch_size=batch_size)[output_index].argmax(axis=-1),\n",
    "        display_labels=labels,\n",
    "        xticks_rotation='vertical',\n",
    "        **kwargs\n",
    "    )"
   ]
  },
  {
   "cell_type": "code",
   "execution_count": null,
   "id": "2a8a5379-eaea-4a9a-a8ab-cec3d029d3ff",
   "metadata": {
    "tags": []
   },
   "outputs": [],
   "source": [
    "X, y, labels, X_test, y_test = get_data()"
   ]
  },
  {
   "cell_type": "code",
   "execution_count": null,
   "id": "87630bd5-e548-4c9d-87cd-2fe093eed92c",
   "metadata": {
    "tags": []
   },
   "outputs": [],
   "source": [
    "model = ..."
   ]
  },
  {
   "cell_type": "code",
   "execution_count": null,
   "id": "14533f6e-b573-49b5-b750-5edb2d7af742",
   "metadata": {
    "tags": []
   },
   "outputs": [],
   "source": [
    "model.summary()"
   ]
  },
  {
   "cell_type": "code",
   "execution_count": null,
   "id": "9489bb35-ae47-4e7f-9184-e22d4727c7ac",
   "metadata": {
    "tags": []
   },
   "outputs": [],
   "source": [
    "model.compile(loss=..., metrics=[...], optimizer=...)"
   ]
  },
  {
   "cell_type": "code",
   "execution_count": null,
   "id": "ab3811a6-73b2-43bb-8f59-15649fff9ff7",
   "metadata": {
    "tags": []
   },
   "outputs": [],
   "source": [
    "logdir = os.path.join(HISTORY_DIR, datetime.datetime.now().strftime(\"%Y%m%d-%H%M%S\"))"
   ]
  },
  {
   "cell_type": "code",
   "execution_count": null,
   "id": "fede0686-3ba6-4a42-87d5-2da2feb5b8ab",
   "metadata": {
    "tags": []
   },
   "outputs": [],
   "source": [
    "model_checkpoint_callback = tf.keras.callbacks.ModelCheckpoint(\n",
    "    os.path.join(logdir, 'model'),\n",
    "    save_best_only=True\n",
    ")"
   ]
  },
  {
   "cell_type": "code",
   "execution_count": null,
   "id": "42710f6f-7cb8-4c29-9cf0-dc1bd5e022d5",
   "metadata": {
    "tags": []
   },
   "outputs": [],
   "source": [
    "tensorboard_callback = tf.keras.callbacks.TensorBoard(\n",
    "    os.path.join(logdir, 'logs'),    \n",
    ")"
   ]
  },
  {
   "cell_type": "code",
   "execution_count": null,
   "id": "40ea8fd8-b1d9-4596-99b9-a88f157954b4",
   "metadata": {
    "tags": []
   },
   "outputs": [],
   "source": [
    "%tensorboard --logdir $logdir"
   ]
  },
  {
   "cell_type": "code",
   "execution_count": null,
   "id": "a84e0801-16b9-458b-9a05-1f0ea68fca2d",
   "metadata": {
    "tags": []
   },
   "outputs": [],
   "source": [
    "model.fit(..., validation_data=(...), batch_size=..., epochs=..., callbacks=[model_checkpoint_callback, tensorboard_callback])"
   ]
  },
  {
   "cell_type": "code",
   "execution_count": null,
   "id": "ce78e7b0-946c-444d-8e50-8ab2f49a9fe4",
   "metadata": {
    "tags": []
   },
   "outputs": [],
   "source": [
    "plot_confusion_matrix(model, X, y, labels=labels)"
   ]
  },
  {
   "cell_type": "code",
   "execution_count": null,
   "id": "370798a1-1fb1-4b5c-847d-b5f7db5a21bb",
   "metadata": {
    "tags": []
   },
   "outputs": [],
   "source": [
    "plot_confusion_matrix(model, X_test, y_test, labels=labels)"
   ]
  },
  {
   "cell_type": "code",
   "execution_count": null,
   "id": "a39bc528-b675-4fbb-9600-900faccd8db4",
   "metadata": {},
   "outputs": [],
   "source": []
  }
 ],
 "metadata": {
  "kernelspec": {
   "display_name": "Python 3 (ipykernel)",
   "language": "python",
   "name": "python3"
  },
  "language_info": {
   "codemirror_mode": {
    "name": "ipython",
    "version": 3
   },
   "file_extension": ".py",
   "mimetype": "text/x-python",
   "name": "python",
   "nbconvert_exporter": "python",
   "pygments_lexer": "ipython3",
   "version": "3.11.3"
  }
 },
 "nbformat": 4,
 "nbformat_minor": 5
}
