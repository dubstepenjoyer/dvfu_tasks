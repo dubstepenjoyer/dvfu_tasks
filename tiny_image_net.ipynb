{
 "cells": [
  {
   "cell_type": "code",
   "execution_count": null,
   "id": "7c7f3461-06b9-4c94-96e8-0d7dd887d5e4",
   "metadata": {
    "tags": []
   },
   "outputs": [],
   "source": [
    "import os\n",
    "import pickle\n",
    "import tarfile\n",
    "import datetime\n",
    "import numpy as np\n",
    "import urllib.request\n",
    "import sklearn.metrics\n",
    "import tensorflow as tf\n",
    "import matplotlib.pyplot as plt"
   ]
  },
  {
   "cell_type": "code",
   "execution_count": null,
   "id": "56b65412-40ad-491e-9e88-e5120d5843a2",
   "metadata": {
    "tags": []
   },
   "outputs": [],
   "source": [
    "gpus = tf.config.list_physical_devices('GPU')\n",
    "print(gpus)\n",
    "if gpus:\n",
    "    try:\n",
    "        tf.config.experimental.set_memory_growth(gpus[0], True)\n",
    "        print('GPU enable')\n",
    "    except:\n",
    "        print('GPU not enable')"
   ]
  },
  {
   "cell_type": "code",
   "execution_count": null,
   "id": "25b512c3-81f5-45f0-ac87-3b5c562a5755",
   "metadata": {
    "tags": []
   },
   "outputs": [],
   "source": [
    "%load_ext tensorboard"
   ]
  },
  {
   "cell_type": "code",
   "execution_count": null,
   "id": "fdd7e8ad-ffe9-48f7-bcb4-15ad187dca17",
   "metadata": {
    "tags": []
   },
   "outputs": [],
   "source": [
    "BATCH_SIZE = 128\n",
    "HISTORY_DIR = 'C:/Users/dmitry/Desktop/Jupiter/dvfu_tasks/history_tiny_image_net'\n",
    "os.makedirs(HISTORY_DIR, exist_ok=True)"
   ]
  },
  {
   "cell_type": "code",
   "execution_count": null,
   "id": "32ef6645-4464-4972-a7c9-added2395d95",
   "metadata": {
    "tags": []
   },
   "outputs": [],
   "source": [
    "def download_data():\n",
    "    if not os.path.exists('tiny-imagenet-200'):\n",
    "        urllib.request.urlretrieve('http://cs231n.stanford.edu/tiny-imagenet-200.zip', 'tiny-imagenet-200.zip')\n",
    "        file = zipfile.ZipFile('tiny-imagenet-200.zip', 'r')\n",
    "        file.extractall()"
   ]
  },
  {
   "cell_type": "code",
   "execution_count": null,
   "id": "9f3a1a48-8c07-4493-88a9-2a7f946cecd5",
   "metadata": {},
   "outputs": [],
   "source": [
    "download_data()"
   ]
  },
  {
   "cell_type": "code",
   "execution_count": null,
   "id": "413bff79-486f-4159-bdb1-1b4fcd59224d",
   "metadata": {},
   "outputs": [],
   "source": [
    "train_dataset = ..."
   ]
  },
  {
   "cell_type": "code",
   "execution_count": null,
   "id": "afe35a8b-a016-458d-ac8b-298c8a5e585a",
   "metadata": {},
   "outputs": [],
   "source": [
    "val_dataset = ..."
   ]
  },
  {
   "cell_type": "code",
   "execution_count": null,
   "id": "87630bd5-e548-4c9d-87cd-2fe093eed92c",
   "metadata": {
    "tags": []
   },
   "outputs": [],
   "source": [
    "model = ..."
   ]
  },
  {
   "cell_type": "code",
   "execution_count": null,
   "id": "14533f6e-b573-49b5-b750-5edb2d7af742",
   "metadata": {
    "tags": []
   },
   "outputs": [],
   "source": [
    "model.summary()"
   ]
  },
  {
   "cell_type": "code",
   "execution_count": null,
   "id": "9489bb35-ae47-4e7f-9184-e22d4727c7ac",
   "metadata": {
    "tags": []
   },
   "outputs": [],
   "source": [
    "model.compile(loss=..., metrics=[...], optimizer=...)"
   ]
  },
  {
   "cell_type": "code",
   "execution_count": null,
   "id": "ab3811a6-73b2-43bb-8f59-15649fff9ff7",
   "metadata": {
    "tags": []
   },
   "outputs": [],
   "source": [
    "logdir = os.path.join(HISTORY_DIR, datetime.datetime.now().strftime(\"%Y%m%d-%H%M%S\"))"
   ]
  },
  {
   "cell_type": "code",
   "execution_count": null,
   "id": "fede0686-3ba6-4a42-87d5-2da2feb5b8ab",
   "metadata": {
    "tags": []
   },
   "outputs": [],
   "source": [
    "model_checkpoint_callback = tf.keras.callbacks.ModelCheckpoint(\n",
    "    os.path.join(logdir, 'model'),\n",
    "    save_best_only=True\n",
    ")"
   ]
  },
  {
   "cell_type": "code",
   "execution_count": null,
   "id": "42710f6f-7cb8-4c29-9cf0-dc1bd5e022d5",
   "metadata": {
    "tags": []
   },
   "outputs": [],
   "source": [
    "tensorboard_callback = tf.keras.callbacks.TensorBoard(\n",
    "    os.path.join(logdir, 'logs'),    \n",
    ")"
   ]
  },
  {
   "cell_type": "code",
   "execution_count": null,
   "id": "40ea8fd8-b1d9-4596-99b9-a88f157954b4",
   "metadata": {
    "tags": []
   },
   "outputs": [],
   "source": [
    "%tensorboard --logdir $logdir"
   ]
  },
  {
   "cell_type": "code",
   "execution_count": null,
   "id": "a84e0801-16b9-458b-9a05-1f0ea68fca2d",
   "metadata": {
    "tags": []
   },
   "outputs": [],
   "source": [
    "model.fit(..., validation_data=..., batch_size=BATCH_SIZE, epochs=..., callbacks=[model_checkpoint_callback, tensorboard_callback])"
   ]
  },
  {
   "cell_type": "code",
   "execution_count": null,
   "id": "c32dea2a-7cf7-4c18-b1a2-ebab37301dd1",
   "metadata": {},
   "outputs": [],
   "source": [
    "y_true = ...\n",
    "y_pred = ..."
   ]
  },
  {
   "cell_type": "code",
   "execution_count": null,
   "id": "a39bc528-b675-4fbb-9600-900faccd8db4",
   "metadata": {},
   "outputs": [],
   "source": [
    "_, ax = plt.subplots(figsize=(75, 75))\n",
    "sklearn.metrics.ConfusionMatrixDisplay.from_predictions(y_true, y_pred, ax=ax, colorbar=False)\n",
    "\n",
    "plt.tight_layout()\n",
    "plt.savefig('valid.png')"
   ]
  },
  {
   "cell_type": "code",
   "execution_count": null,
   "id": "1878e46d-53db-4123-a4dc-a1bd53c11290",
   "metadata": {},
   "outputs": [],
   "source": []
  }
 ],
 "metadata": {
  "kernelspec": {
   "display_name": "Python 3 (ipykernel)",
   "language": "python",
   "name": "python3"
  },
  "language_info": {
   "codemirror_mode": {
    "name": "ipython",
    "version": 3
   },
   "file_extension": ".py",
   "mimetype": "text/x-python",
   "name": "python",
   "nbconvert_exporter": "python",
   "pygments_lexer": "ipython3",
   "version": "3.11.3"
  }
 },
 "nbformat": 4,
 "nbformat_minor": 5
}
